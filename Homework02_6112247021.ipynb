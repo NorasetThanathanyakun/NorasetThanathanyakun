{
 "cells": [
  {
   "cell_type": "code",
   "execution_count": 1,
   "metadata": {},
   "outputs": [
    {
     "data": {
      "text/html": [
       "\n",
       "                <audio  controls=\"controls\" >\n",
       "                    <source src=\"data:audio/wav;base64,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\" type=\"audio/wav\" />\n",
       "                    Your browser does not support the audio element.\n",
       "                </audio>\n",
       "              "
      ],
      "text/plain": [
       "<IPython.lib.display.Audio object>"
      ]
     },
     "execution_count": 1,
     "metadata": {},
     "output_type": "execute_result"
    }
   ],
   "source": [
    "#ประกาศใช้ library\n",
    "from __future__ import print_function, division\n",
    "\n",
    "%matplotlib inline\n",
    "import warnings\n",
    "warnings.filterwarnings('ignore')\n",
    "\n",
    "import thinkdsp\n",
    "import thinkplot\n",
    "import thinkstats2 \n",
    "\n",
    "import numpy as np\n",
    "\n",
    "from ipywidgets import interact, interactive, fixed\n",
    "import ipywidgets as widgets\n",
    "\n",
    "\n",
    "\n",
    "#สร้างสัญญาณรบกวนอย่างง่าย(uncorrelated uniform (UU) noise)\n",
    "thinkdsp.random_seed(21)\n",
    "\n",
    "#นำสัญญาณไปรวมกับ uncorrelated uniform noise\n",
    "signal = thinkdsp.UncorrelatedUniformNoise()\n",
    "\n",
    "#สร้างเสียงเป็น WAVE โดยมีความยาว 0.5 วินาที Framerate 5512\n",
    "wave = signal.make_wave(duration=0.5, framerate=5512)\n",
    "wave.make_audio()\n",
    "\n"
   ]
  },
  {
   "cell_type": "code",
   "execution_count": null,
   "metadata": {},
   "outputs": [],
   "source": []
  }
 ],
 "metadata": {
  "kernelspec": {
   "display_name": "Python 3",
   "language": "python",
   "name": "python3"
  },
  "language_info": {
   "codemirror_mode": {
    "name": "ipython",
    "version": 3
   },
   "file_extension": ".py",
   "mimetype": "text/x-python",
   "name": "python",
   "nbconvert_exporter": "python",
   "pygments_lexer": "ipython3",
   "version": "3.7.6"
  }
 },
 "nbformat": 4,
 "nbformat_minor": 2
}
